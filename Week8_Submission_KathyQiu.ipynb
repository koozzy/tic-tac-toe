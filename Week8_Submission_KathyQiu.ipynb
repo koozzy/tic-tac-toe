{
 "cells": [
  {
   "cell_type": "code",
   "execution_count": 165,
   "id": "ce884ea0",
   "metadata": {},
   "outputs": [],
   "source": [
    "import numpy as np\n",
    "import matplotlib.pyplot as plt\n",
    "import pandas as pd"
   ]
  },
  {
   "cell_type": "code",
   "execution_count": 174,
   "id": "3a622972",
   "metadata": {},
   "outputs": [],
   "source": [
    "TicTacToe = pd.read_csv(\"/Users/kouzi/Desktop/TECHIN509/tic-tac-toe/TicTacToe_data.csv\")"
   ]
  },
  {
   "cell_type": "code",
   "execution_count": 171,
   "id": "97dbf495",
   "metadata": {},
   "outputs": [
    {
     "data": {
      "text/html": [
       "<div>\n",
       "<style scoped>\n",
       "    .dataframe tbody tr th:only-of-type {\n",
       "        vertical-align: middle;\n",
       "    }\n",
       "\n",
       "    .dataframe tbody tr th {\n",
       "        vertical-align: top;\n",
       "    }\n",
       "\n",
       "    .dataframe thead th {\n",
       "        text-align: right;\n",
       "    }\n",
       "</style>\n",
       "<table border=\"1\" class=\"dataframe\">\n",
       "  <thead>\n",
       "    <tr style=\"text-align: right;\">\n",
       "      <th></th>\n",
       "      <th>game_id</th>\n",
       "      <th>winner_bot</th>\n",
       "      <th>loser_bot</th>\n",
       "      <th>draws</th>\n",
       "      <th>sente_bot</th>\n",
       "      <th>total_steps</th>\n",
       "      <th>winner_character</th>\n",
       "      <th>winner_steps</th>\n",
       "    </tr>\n",
       "  </thead>\n",
       "  <tbody>\n",
       "    <tr>\n",
       "      <th>0</th>\n",
       "      <td>1</td>\n",
       "      <td>1.0</td>\n",
       "      <td>2.0</td>\n",
       "      <td>NaN</td>\n",
       "      <td>2</td>\n",
       "      <td>6</td>\n",
       "      <td>O</td>\n",
       "      <td>3.0</td>\n",
       "    </tr>\n",
       "    <tr>\n",
       "      <th>1</th>\n",
       "      <td>2</td>\n",
       "      <td>1.0</td>\n",
       "      <td>2.0</td>\n",
       "      <td>NaN</td>\n",
       "      <td>1</td>\n",
       "      <td>9</td>\n",
       "      <td>X</td>\n",
       "      <td>5.0</td>\n",
       "    </tr>\n",
       "    <tr>\n",
       "      <th>2</th>\n",
       "      <td>3</td>\n",
       "      <td>2.0</td>\n",
       "      <td>1.0</td>\n",
       "      <td>NaN</td>\n",
       "      <td>1</td>\n",
       "      <td>6</td>\n",
       "      <td>O</td>\n",
       "      <td>3.0</td>\n",
       "    </tr>\n",
       "    <tr>\n",
       "      <th>3</th>\n",
       "      <td>4</td>\n",
       "      <td>2.0</td>\n",
       "      <td>1.0</td>\n",
       "      <td>NaN</td>\n",
       "      <td>1</td>\n",
       "      <td>6</td>\n",
       "      <td>O</td>\n",
       "      <td>3.0</td>\n",
       "    </tr>\n",
       "    <tr>\n",
       "      <th>4</th>\n",
       "      <td>5</td>\n",
       "      <td>2.0</td>\n",
       "      <td>1.0</td>\n",
       "      <td>NaN</td>\n",
       "      <td>2</td>\n",
       "      <td>5</td>\n",
       "      <td>X</td>\n",
       "      <td>3.0</td>\n",
       "    </tr>\n",
       "    <tr>\n",
       "      <th>...</th>\n",
       "      <td>...</td>\n",
       "      <td>...</td>\n",
       "      <td>...</td>\n",
       "      <td>...</td>\n",
       "      <td>...</td>\n",
       "      <td>...</td>\n",
       "      <td>...</td>\n",
       "      <td>...</td>\n",
       "    </tr>\n",
       "    <tr>\n",
       "      <th>95</th>\n",
       "      <td>96</td>\n",
       "      <td>2.0</td>\n",
       "      <td>1.0</td>\n",
       "      <td>NaN</td>\n",
       "      <td>2</td>\n",
       "      <td>5</td>\n",
       "      <td>X</td>\n",
       "      <td>3.0</td>\n",
       "    </tr>\n",
       "    <tr>\n",
       "      <th>96</th>\n",
       "      <td>97</td>\n",
       "      <td>2.0</td>\n",
       "      <td>1.0</td>\n",
       "      <td>NaN</td>\n",
       "      <td>2</td>\n",
       "      <td>5</td>\n",
       "      <td>X</td>\n",
       "      <td>3.0</td>\n",
       "    </tr>\n",
       "    <tr>\n",
       "      <th>97</th>\n",
       "      <td>98</td>\n",
       "      <td>1.0</td>\n",
       "      <td>2.0</td>\n",
       "      <td>NaN</td>\n",
       "      <td>1</td>\n",
       "      <td>5</td>\n",
       "      <td>X</td>\n",
       "      <td>3.0</td>\n",
       "    </tr>\n",
       "    <tr>\n",
       "      <th>98</th>\n",
       "      <td>99</td>\n",
       "      <td>1.0</td>\n",
       "      <td>2.0</td>\n",
       "      <td>NaN</td>\n",
       "      <td>1</td>\n",
       "      <td>7</td>\n",
       "      <td>X</td>\n",
       "      <td>4.0</td>\n",
       "    </tr>\n",
       "    <tr>\n",
       "      <th>99</th>\n",
       "      <td>100</td>\n",
       "      <td>1.0</td>\n",
       "      <td>2.0</td>\n",
       "      <td>NaN</td>\n",
       "      <td>1</td>\n",
       "      <td>5</td>\n",
       "      <td>X</td>\n",
       "      <td>3.0</td>\n",
       "    </tr>\n",
       "  </tbody>\n",
       "</table>\n",
       "<p>100 rows × 8 columns</p>\n",
       "</div>"
      ],
      "text/plain": [
       "    game_id  winner_bot  loser_bot draws  sente_bot  total_steps  \\\n",
       "0         1         1.0        2.0   NaN          2            6   \n",
       "1         2         1.0        2.0   NaN          1            9   \n",
       "2         3         2.0        1.0   NaN          1            6   \n",
       "3         4         2.0        1.0   NaN          1            6   \n",
       "4         5         2.0        1.0   NaN          2            5   \n",
       "..      ...         ...        ...   ...        ...          ...   \n",
       "95       96         2.0        1.0   NaN          2            5   \n",
       "96       97         2.0        1.0   NaN          2            5   \n",
       "97       98         1.0        2.0   NaN          1            5   \n",
       "98       99         1.0        2.0   NaN          1            7   \n",
       "99      100         1.0        2.0   NaN          1            5   \n",
       "\n",
       "   winner_character  winner_steps  \n",
       "0                 O           3.0  \n",
       "1                 X           5.0  \n",
       "2                 O           3.0  \n",
       "3                 O           3.0  \n",
       "4                 X           3.0  \n",
       "..              ...           ...  \n",
       "95                X           3.0  \n",
       "96                X           3.0  \n",
       "97                X           3.0  \n",
       "98                X           4.0  \n",
       "99                X           3.0  \n",
       "\n",
       "[100 rows x 8 columns]"
      ]
     },
     "execution_count": 171,
     "metadata": {},
     "output_type": "execute_result"
    }
   ],
   "source": [
    "TicTacToe"
   ]
  },
  {
   "cell_type": "code",
   "execution_count": 168,
   "id": "c11a0f46",
   "metadata": {
    "scrolled": true
   },
   "outputs": [
    {
     "data": {
      "image/png": "[encoded data removed]",
      "text/plain": [
       "<Figure size 432x288 with 1 Axes>"
      ]
     },
     "metadata": {
      "needs_background": "light"
     },
     "output_type": "display_data"
    }
   ],
   "source": [
    "TicTacToe.plot.scatter(x = 'game_id', y = 'total_steps', s = 20, c = 'red' );"
   ]
  },
  {
   "cell_type": "code",
   "execution_count": 127,
   "id": "63e3807a",
   "metadata": {},
   "outputs": [
    {
     "data": {
      "image/png": "[encoded data removed]",
      "text/plain": [
       "<Figure size 576x576 with 1 Axes>"
      ]
     },
     "metadata": {},
     "output_type": "display_data"
    }
   ],
   "source": [
    "bot1_win = TicTacToe[TicTacToe['winner_bot']== 1]\n",
    "bot2_win = TicTacToe[TicTacToe['winner_bot']== 2]\n",
    "draws = TicTacToe[TicTacToe['draws']== 'YES']\n",
    "draws_count = len(draws)\n",
    "\n",
    "bot1_win_count = len(bot1_win)\n",
    "bot2_win_count = len(bot2_win)\n",
    "\n",
    "df = pd.DataFrame([bot1_win_count,bot2_win_count,draws_count], index=['bot1_win', 'bot2_win', 'draw'], \n",
    "                  columns=['Winner Count'])\n",
    "df.plot(kind='pie', subplots=True, figsize=(8, 8))\n",
    "plt.show()\n"
   ]
  },
  {
   "cell_type": "code",
   "execution_count": 128,
   "id": "ac19bb25",
   "metadata": {
    "scrolled": true
   },
   "outputs": [
    {
     "data": {
      "image/png": "[encoded data removed]",
      "text/plain": [
       "<Figure size 576x576 with 1 Axes>"
      ]
     },
     "metadata": {},
     "output_type": "display_data"
    }
   ],
   "source": [
    "X_win = TicTacToe[TicTacToe['winner_character']== 'X']\n",
    "O_win = TicTacToe[TicTacToe['winner_character']== 'O']\n",
    "\n",
    "X_win_count = len(X_win)\n",
    "O_win_count = len(O_win)\n",
    "\n",
    "df = pd.DataFrame([X_win_count, O_win_count], index=['X_win', 'O_win'], \n",
    "                  columns=['Winner Count'])\n",
    "df.plot(kind='pie', subplots=True, figsize=(8, 8))\n",
    "plt.show()"
   ]
  },
  {
   "cell_type": "code",
   "execution_count": 169,
   "id": "d6807e02",
   "metadata": {},
   "outputs": [],
   "source": [
    "sente_win = TicTacToe[TicTacToe['winner_bot']== TicTacToe['sente_bot']]\n",
    "\n",
    "bot1_sente_win = sente_win[sente_win['winner_bot']== 1]\n",
    "bot2_sente_win = sente_win[sente_win['winner_bot']== 2]\n",
    "X_1_win = X_win[X_win['winner_bot']== 1]\n",
    "X_2_win = X_win[X_win['winner_bot']== 2]\n",
    "O_1_win = O_win[O_win['winner_bot']== 1]\n",
    "O_2_win = O_win[O_win['winner_bot']== 2]\n",
    "\n",
    "bot1_sente_win_count = len(bot1_sente_win)\n",
    "bot2_sente_win_count = len(bot2_sente_win)\n",
    "X_1_win_count = len(X_1_win)\n",
    "X_2_win_count = len(X_2_win)\n",
    "O_1_win_count = len(O_1_win)\n",
    "O_2_win_count = len(O_2_win)\n"
   ]
  },
  {
   "cell_type": "code",
   "execution_count": 170,
   "id": "ba88f0fa",
   "metadata": {},
   "outputs": [
    {
     "data": {
      "image/png": "[encoded data removed]",
      "text/plain": [
       "<Figure size 432x288 with 1 Axes>"
      ]
     },
     "metadata": {
      "needs_background": "light"
     },
     "output_type": "display_data"
    }
   ],
   "source": [
    "# Create bars\n",
    "barWidth = 0.9\n",
    "bars1 = [bot1_win_count, bot2_win_count]\n",
    "bars2 = [bot1_sente_win_count, bot2_sente_win_count]\n",
    "bars3 = [X_1_win_count, O_1_win_count]\n",
    "bars4 = [X_2_win_count, O_2_win_count]\n",
    "\n",
    " \n",
    "# The X position of bars\n",
    "r1 = [1,6]\n",
    "r2 = [2,7]\n",
    "r3 = [3,8]\n",
    "r4 = [4,9]\n",
    "\n",
    " \n",
    "# Create barplot\n",
    "plt.bar(r1, bars1, width = barWidth, color = (0.3,0.1,0.4,0.6), label='Bot wins')\n",
    "plt.bar(r2, bars2, width = barWidth, color = (0.3,0.5,0.4,0.6), label='Win as sente')\n",
    "plt.bar(r3, bars3, width = barWidth, color = (0.3,0.9,0.4,0.6), label='Win as X')\n",
    "plt.bar(r4, bars4, width = barWidth, color = (0.3,0.9,0.4,0.6), label='Win as O')\n",
    "\n",
    "# Create legend\n",
    "plt.legend()\n",
    " \n",
    "# Text below each barplot with a rotation at 90°\n",
    "plt.xticks([r + barWidth for r in range(9)], ['Bot1 Win', 'As sente', 'As X','As O',\n",
    "                                                    '',\n",
    "                                                    'Bot2 Win', 'As sente', 'As X','As O' ], rotation=90)\n",
    "\n",
    "# Adjust the margins\n",
    "plt.subplots_adjust(bottom= 0.2, top = 0.98)\n",
    " \n",
    "# Show graphic\n",
    "plt.show()"
   ]
  }
 ],
 "metadata": {
  "kernelspec": {
   "display_name": "Python 3 (ipykernel)",
   "language": "python",
   "name": "python3"
  },
  "language_info": {
   "codemirror_mode": {
    "name": "ipython",
    "version": 3
   },
   "file_extension": ".py",
   "mimetype": "text/x-python",
   "name": "python",
   "nbconvert_exporter": "python",
   "pygments_lexer": "ipython3",
   "version": "3.9.12"
  }
 },
 "nbformat": 4,
 "nbformat_minor": 5
}
